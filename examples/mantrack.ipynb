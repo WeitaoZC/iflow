{
 "cells": [
  {
   "cell_type": "code",
   "execution_count": 21,
   "metadata": {},
   "outputs": [],
   "source": [
    "import os\n",
    "import numpy as np\n",
    "import scipy.io as spio\n",
    "import scipy.interpolate as spin\n",
    "from scipy.linalg import expm, logm\n",
    "import matplotlib.pyplot as plt"
   ]
  },
  {
   "cell_type": "code",
   "execution_count": 15,
   "metadata": {},
   "outputs": [
    {
     "name": "stdout",
     "output_type": "stream",
     "text": [
      "[[ 0.4405727   0.2373188  -0.16842857]\n",
      " [ 0.2373188   0.33246353  0.05933143]\n",
      " [-0.16842857  0.05933143  0.29716317]]\n",
      "[[ 0.07821511  0.05289024  0.13068634]\n",
      " [ 0.05289024  0.81636699 -0.01347618]\n",
      " [ 0.13068634 -0.01347618  0.66995896]]\n",
      "[ 0.67375726 -0.04542656  0.32224979]\n",
      "[ 0.67375726 -0.04542656  0.32224979]\n"
     ]
    }
   ],
   "source": [
    "XYZ = []\n",
    "SPD = []\n",
    "UQ = []\n",
    "for i in range(7):\n",
    "    useddata = spio.loadmat(\"D:/Pytorch/iflow/iflow/data/Robot_data/mantrack/\"+ 'manTrack{}.mat'.format(i+1), squeeze_me=True)\n",
    "    pos = useddata[\"xt\"].transpose()\n",
    "    # print(useddata[\"Me_track\"][:,:,0])\n",
    "    spd = useddata[\"Me_track\"].reshape((9,4000)).transpose().reshape((4000,3,3))\n",
    "    # print(spd[0,:,:])\n",
    "    uq = useddata[\"qt\"].transpose()\n",
    "    XYZ.append(pos)\n",
    "    SPD.append(spd)\n",
    "    UQ.append(uq)\n",
    "print(SPD[0][0,:,:])\n",
    "print(SPD[0][-1,:,:])\n",
    "print(XYZ[0][-1,:])\n",
    "print(XYZ[1][-1,:])"
   ]
  },
  {
   "cell_type": "code",
   "execution_count": 3,
   "metadata": {},
   "outputs": [
    {
     "name": "stdout",
     "output_type": "stream",
     "text": [
      "7\n",
      "(4000, 3, 3)\n"
     ]
    }
   ],
   "source": [
    "print(len(SPD))\n",
    "print(SPD[0].shape)"
   ]
  },
  {
   "cell_type": "code",
   "execution_count": 4,
   "metadata": {},
   "outputs": [
    {
     "name": "stdout",
     "output_type": "stream",
     "text": [
      "[[ 0.4405727   0.2373188  -0.16842857]\n",
      " [ 0.2373188   0.33246353  0.05933143]\n",
      " [-0.16842857  0.05933143  0.29716317]]\n",
      "[[-1.35583554  0.98551068 -0.79397781]\n",
      " [ 0.98551068 -1.58986179  0.58251254]\n",
      " [-0.79397781  0.58251254 -1.55826301]]\n",
      "(4000, 6)\n"
     ]
    }
   ],
   "source": [
    "def Log_map(U):\n",
    "    P = np.array([[1, 0, 0], [0, 1, 0], [0, 0, 1]])\n",
    "    m = P @ logm(P @ U @ P) @ P\n",
    "    return m\n",
    "\n",
    "def sym_to_vec(M):\n",
    "    vec = np.zeros(6)\n",
    "    vec[0] = M[0,0]\n",
    "    vec[1] = M[1,1]\n",
    "    vec[2] = M[2,2]\n",
    "    vec[3] = np.sqrt(2)*M[1,2]\n",
    "    vec[4] = np.sqrt(2)*M[0,2]\n",
    "    vec[5] = np.sqrt(2)*M[0,1]\n",
    "    return vec\n",
    "\n",
    "print(SPD[0][0,:,:])\n",
    "print(Log_map(SPD[0][0,:,:]))\n",
    "\n",
    "Joint_vector = []\n",
    "for i in range(len(SPD)):\n",
    "    joi_vec = np.zeros((SPD[0].shape[0],6))\n",
    "    for j in range(SPD[0].shape[0]):\n",
    "        # SPD[i][j,:,:] = Log_map(SPD[i][j,:,:])\n",
    "        joi_vec[j,:] = sym_to_vec(Log_map(SPD[i][j,:,:]))\n",
    "    Joint_vector.append(joi_vec)\n",
    "\n",
    "print(Joint_vector[0].shape)\n"
   ]
  },
  {
   "cell_type": "code",
   "execution_count": 11,
   "metadata": {},
   "outputs": [
    {
     "name": "stdout",
     "output_type": "stream",
     "text": [
      "[-1.35583554 -1.58986179 -1.55826301  0.82379714 -1.12285418  1.39372258]\n",
      "(7, 4000, 6)\n"
     ]
    }
   ],
   "source": [
    "## seperate joint vector\n",
    "print(Joint_vector[0][0,:])\n",
    "np_Joint_vector = np.array(Joint_vector)\n",
    "print(np_Joint_vector.shape)\n",
    "np.save(os.getcwd() + \"/../data/robot_data/man_trial/joint_vector6.npy\", np_Joint_vector)"
   ]
  },
  {
   "cell_type": "code",
   "execution_count": 12,
   "metadata": {},
   "outputs": [
    {
     "name": "stdout",
     "output_type": "stream",
     "text": [
      "7\n",
      "(4000, 3)\n",
      "(7, 4000, 3)\n",
      "[ 0.67375726 -0.04542656  0.32224979]\n"
     ]
    }
   ],
   "source": [
    "## seperate position data\n",
    "print(len(XYZ))\n",
    "print(XYZ[0].shape)\n",
    "np_XYZ = np.array(XYZ)\n",
    "print(np_XYZ.shape)\n",
    "np.save(os.getcwd() + \"/../data/robot_data/man_trial/pos3.npy\", np_XYZ)\n",
    "print(np_XYZ[0,-1,:])"
   ]
  },
  {
   "cell_type": "code",
   "execution_count": 87,
   "metadata": {},
   "outputs": [
    {
     "name": "stdout",
     "output_type": "stream",
     "text": [
      "(7, 4000, 9)\n",
      "[-1.35583554 -1.58986179 -1.55826301  0.82379714 -1.12285418  1.39372258\n",
      "  0.24420445 -0.32554086  0.80790596]\n"
     ]
    }
   ],
   "source": [
    "## joint SPD and position together\n",
    "Joi_vec_pos = []\n",
    "for i in range(len(SPD)):\n",
    "    joi_vec_pos = np.zeros((SPD[0].shape[0],9))\n",
    "    joi_vec_pos[:,:6] = Joint_vector[i]\n",
    "    joi_vec_pos[:,6:] = XYZ[i]\n",
    "    Joi_vec_pos.append(joi_vec_pos)\n",
    "Joi_vec_pos = np.array(Joi_vec_pos)\n",
    "print(Joi_vec_pos.shape)\n",
    "print(Joi_vec_pos[0,0,:])\n",
    "np.save(os.getcwd() + \"/../data/robot_data/joi_vec_pos9.npy\", Joi_vec_pos)"
   ]
  },
  {
   "cell_type": "code",
   "execution_count": 98,
   "metadata": {},
   "outputs": [
    {
     "data": {
      "image/png": "[encoded data removed]",
      "text/plain": [
       "<Figure size 432x288 with 1 Axes>"
      ]
     },
     "metadata": {
      "needs_background": "light"
     },
     "output_type": "display_data"
    },
    {
     "name": "stdout",
     "output_type": "stream",
     "text": [
      "(7001, 9)\n",
      "(7001, 3, 3)\n",
      "(7001, 3)\n",
      "[[ 0.32834052  0.12020691 -0.21079131]\n",
      " [ 0.12020691  0.33423408  0.02413437]\n",
      " [-0.21079131  0.02413437  0.28837893]]\n",
      "[[ 0.07843997  0.05296467  0.13100098]\n",
      " [ 0.05296467  0.8158087  -0.0134405 ]\n",
      " [ 0.13100098 -0.0134405   0.66929635]]\n",
      "[ 0.67382931 -0.04462663  0.32228924]\n"
     ]
    }
   ],
   "source": [
    "def vec_to_sym(vec):\n",
    "    M = np.zeros((3,3))\n",
    "    M[0,0] = vec[0]\n",
    "    M[1,1] = vec[1]\n",
    "    M[2,2] = vec[2]\n",
    "    M[1,2] = M[2,1] = vec[3]/np.sqrt(2)\n",
    "    M[0,2] = M[2,0] = vec[4]/np.sqrt(2)\n",
    "    M[0,1] = M[1,0] = vec[5]/np.sqrt(2)\n",
    "    return M\n",
    "\n",
    "def Exp_map(M):\n",
    "    P = np.array([[1, 0, 0], [0, 1, 0], [0, 0, 1]])\n",
    "    m = P @ expm(P @ M @ P) @ P\n",
    "    return m\n",
    "\n",
    "joint_vec_pos9 = np.load(\"D:/Pytorch/iflow/iflow/data/Robot_data/generated/joi_vec_pos9.npy\")\n",
    "for i in range(joint_vec_pos9.shape[-1]):\n",
    "    plt.plot(joint_vec_pos9[:,i])\n",
    "plt.show()\n",
    "print(joint_vec_pos9.shape)\n",
    "vec6 = joint_vec_pos9[:,:6]\n",
    "pos3 = joint_vec_pos9[:,6:]\n",
    "gene_spd = np.zeros((vec6.shape[0],3,3))\n",
    "for i in range(vec6.shape[0]):\n",
    "    gene_spd[i,:,:] = Exp_map(vec_to_sym(vec6[i,:]))\n",
    "print(gene_spd.shape)\n",
    "print(pos3.shape)\n",
    "print(gene_spd[0,:,:])\n",
    "print(gene_spd[-1,:,:])\n",
    "print(pos3[-1,:])\n",
    "POS3 = pos3.transpose()\n",
    "Gene_SPD = gene_spd.reshape((7001, 9)).transpose().reshape((3,3,7001))\n",
    "spio.savemat(\"generated_spd_pos.mat\", {\"Me_track\":Gene_SPD, \"xt\":POS3})"
   ]
  },
  {
   "cell_type": "code",
   "execution_count": 56,
   "metadata": {},
   "outputs": [
    {
     "name": "stdout",
     "output_type": "stream",
     "text": [
      "(10000, 3)\n",
      "(10000, 4)\n",
      "0\n",
      "[-0.00826098  0.99549285 -0.07049583  0.06289733]\n",
      "(10000, 3)\n",
      "[ 0.67600428 -0.04565743  0.221227  ]\n",
      "(10000, 7)\n",
      "[ 0.67600428 -0.04565743  0.221227   -0.00826098  0.99549285 -0.07049583\n",
      "  0.06289733]\n"
     ]
    }
   ],
   "source": [
    "def R_Exp(R):\n",
    "    uqs = np.zeros((R.shape[0],4))\n",
    "    nR = np.linalg.norm(R,axis = 1)\n",
    "    uqs[:,0] = np.cos(nR)\n",
    "    uqs[:,1:] = R * np.sin(nR).reshape(R.shape[0],1)/nR.reshape(R.shape[0],1)\n",
    "    return uqs\n",
    "\n",
    "def quat_prod(q1,q2):\n",
    "    p = np.zeros(4)\n",
    "    p[0] = q1[0] * q2[0] - q1[1:] @ q2[1:]\n",
    "    p[1:] = q1[0] * q2[1:] + q2[0] * q1[1:] + np.cross(q1[1:],q2[1:])\n",
    "    return p\n",
    "##generated uqs check\n",
    "ori_vec = np.loadtxt(\"D:/matlab/SPD_plot/dmp-spd-master/spl_ori.txt\")\n",
    "print(ori_vec.shape)\n",
    "ori_uq = R_Exp(ori_vec)\n",
    "print(ori_uq.shape)\n",
    "\n",
    "count = 0\n",
    "for i in range(ori_uq.shape[0]-1):\n",
    "    if (np.dot(ori_uq[i], ori_uq[i+1]) < 0):\n",
    "        ori_uq[i+1] = -ori_uq[i+1]\n",
    "        count+=1\n",
    "print(count)\n",
    "print(ori_uq[-1,:])\n",
    "\n",
    "pos = np.loadtxt(\"D:/matlab/SPD_plot/dmp-spd-master/spl_pos.txt\")\n",
    "print(pos.shape)\n",
    "print(pos[-1,:])\n",
    "\n",
    "pos_uq = np.zeros((10000, 7))   #np.stack((pos, ori_uq), axis = 0)\n",
    "pos_uq[:,:3] = pos\n",
    "pos_uq[:,3:] = ori_uq\n",
    "print(pos_uq.shape)\n",
    "print(pos_uq[-1])\n",
    "np.savetxt(\"D:/Pytorch/iflow/iflow/data/Robot_data/generated/spl_pos_uq.txt\", pos_uq)"
   ]
  },
  {
   "cell_type": "code",
   "execution_count": 16,
   "metadata": {},
   "outputs": [
    {
     "name": "stdout",
     "output_type": "stream",
     "text": [
      "0\n",
      "0\n",
      "0\n",
      "0\n",
      "0\n",
      "0\n"
     ]
    }
   ],
   "source": [
    "uqs = np.load(\"D:/Pytorch/iflow/iflow/data/Robot_data/training_dataset/real_quats.npy\")\n",
    "for j in range(uqs.shape[0]):\n",
    "    count = 0\n",
    "    for i in range(uqs.shape[1]-1):\n",
    "        if (np.dot(uqs[j,i,:], uqs[j,i+1,:]) < 0):\n",
    "            uqs[j,i+1,:] = -uqs[j,i+1,:]\n",
    "            count+=1\n",
    "    print(count)"
   ]
  },
  {
   "cell_type": "code",
   "execution_count": 44,
   "metadata": {},
   "outputs": [
    {
     "name": "stdout",
     "output_type": "stream",
     "text": [
      "(7001, 3)\n",
      "(7001, 3)\n",
      "[ 0.60885037 -0.08442373  0.55723   ]\n",
      "[ 0.67581642 -0.0453855   0.21888147]\n",
      "(7001, 3)\n",
      "[ 0.60885037 -0.08442373  0.55723   ]\n",
      "[ 0.67581642 -0.0453855   0.21888147]\n",
      "(7001, 6)\n"
     ]
    }
   ],
   "source": [
    "real_ori_vec = np.load(\"D:/Pytorch/iflow/iflow/data/Robot_data/generated/real_ori_vec1.npy\")\n",
    "print(real_ori_vec.shape)\n",
    "real_pos = np.load(\"D:/Pytorch/iflow/iflow/data/Robot_data/generated/real_pos.npy\")\n",
    "print(real_pos.shape)\n",
    "print(real_pos[0,:])\n",
    "print(real_pos[-1,:])\n",
    "real_pos1 = np.load(\"D:/Pytorch/iflow/iflow/data/Robot_data/generated/real_pos1.npy\")\n",
    "print(real_pos1.shape)\n",
    "print(real_pos1[0,:])\n",
    "print(real_pos1[-1,:])\n",
    "pos_vec = np.hstack((real_ori_vec, real_pos))\n",
    "print(pos_vec.shape)\n",
    "\n",
    "# np.savetxt(\"D:/matlab/SPD_plot/pos_vec.txt\", pos_vec)"
   ]
  },
  {
   "cell_type": "code",
   "execution_count": 53,
   "metadata": {},
   "outputs": [
    {
     "name": "stdout",
     "output_type": "stream",
     "text": [
      "[ 1.56398305 -0.20832065  0.02177898]\n",
      "(907, 3)\n",
      "(3922, 3)\n",
      "[ 0.67600428 -0.04565743  0.221227  ]\n"
     ]
    }
   ],
   "source": [
    "def log_map_uq(uq):\n",
    "    vec = np.arccos(uq[0]) * uq[1:] /np.linalg.norm(uq[1:])\n",
    "    return vec\n",
    "\n",
    "goal_uq = np.array([-0.00715,  0.991,  -0.132, 0.0138])\n",
    "goal_vec = log_map_uq(goal_uq)\n",
    "print(goal_vec)\n",
    "for i in range(real_ori_vec.shape[0]):\n",
    "    if np.abs(np.linalg.norm(real_ori_vec[i,:]) - np.linalg.norm(goal_vec))<0.000001:\n",
    "        cut_ori_vec = real_ori_vec[:i, :]\n",
    "        break\n",
    "print(cut_ori_vec.shape)\n",
    "\n",
    "goal_pos = np.array([0.6768,  -0.0434,  0.2189])\n",
    "for i in range(real_pos.shape[0]):\n",
    "    if np.abs(np.linalg.norm(real_pos[i,:]) - np.linalg.norm(goal_pos))<0.0001:\n",
    "        cut_pos = real_pos[:i, :]\n",
    "        break\n",
    "print(cut_pos.shape)\n",
    "print(cut_pos[-1,:])\n",
    "np.savetxt(\"D:/matlab/SPD_plot/cut_vec.txt\", cut_ori_vec)\n",
    "np.savetxt(\"D:/matlab/SPD_plot/cut_pos.txt\", cut_pos)\n",
    "\n"
   ]
  },
  {
   "cell_type": "code",
   "execution_count": 7,
   "metadata": {},
   "outputs": [
    {
     "data": {
      "image/png": "[encoded data removed]",
      "text/plain": [
       "<Figure size 432x288 with 1 Axes>"
      ]
     },
     "metadata": {
      "needs_background": "light"
     },
     "output_type": "display_data"
    }
   ],
   "source": [
    "from mpl_toolkits.mplot3d import axes3d\n",
    "import matplotlib.pyplot as plt\n",
    "import numpy as np\n",
    "\n",
    "fig = plt.figure()\n",
    "ax = fig.add_subplot(111, projection='3d')\n",
    "\n",
    "t = np.linspace(0, np.pi * 2, 100)\n",
    "s = np.linspace(0, np.pi, 100)\n",
    "\n",
    "t, s = np.meshgrid(t, s)\n",
    "x = np.cos(t) * np.sin(s)\n",
    "y = np.sin(t) * np.sin(s)\n",
    "z = np.cos(s)\n",
    "ax = plt.subplot(111, projection='3d')\n",
    "# ax = plt.subplot(121, projection='3d')\n",
    "# ax.plot_wireframe(x, y, z)\n",
    "# ax = plt.subplot(122, projection='3d')\n",
    "# ax.plot_surface(x, y, z, rstride=1, cstride=1, cmap='rainbow')\n",
    "# ax = plt.subplot(122, projection='3d')\n",
    "ax.w_xaxis.set_pane_color((1.0, 1.0, 1.0, 1.0))\n",
    "ax.w_yaxis.set_pane_color((1.0, 1.0, 1.0, 1.0))\n",
    "ax.w_zaxis.set_pane_color((1.0, 1.0, 1.0, 1.0))\n",
    "ax.plot_surface(x, y, z, rstride=5, cstride=5, cmap='gray', alpha=0.7)\n",
    "plt.show()"
   ]
  }
 ],
 "metadata": {
  "interpreter": {
   "hash": "a8f61be024eba58adef938c9aa1e29e02cb3dece83a5348b1a2dafd16a070453"
  },
  "kernelspec": {
   "display_name": "Python 3.8.8 64-bit ('base': conda)",
   "language": "python",
   "name": "python3"
  },
  "language_info": {
   "codemirror_mode": {
    "name": "ipython",
    "version": 3
   },
   "file_extension": ".py",
   "mimetype": "text/x-python",
   "name": "python",
   "nbconvert_exporter": "python",
   "pygments_lexer": "ipython3",
   "version": "3.8.8"
  },
  "orig_nbformat": 4
 },
 "nbformat": 4,
 "nbformat_minor": 2
}
