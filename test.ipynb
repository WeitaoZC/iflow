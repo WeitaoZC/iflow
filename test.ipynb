{
 "cells": [
  {
   "cell_type": "code",
   "execution_count": 1,
   "metadata": {
    "collapsed": true
   },
   "outputs": [],
   "source": [
    "import numpy as np\n",
    "import torch\n",
    "import pandas as pd\n",
    "import scipy.io as spio\n",
    "from matplotlib import pyplot as plt "
   ]
  },
  {
   "cell_type": "code",
   "execution_count": 12,
   "outputs": [],
   "source": [
    "I_data = np.load(\"./data/IROS_dataset/IShape.npy\")\n",
    "R_data = np.load(\"./data/IROS_dataset/RShape.npy\")\n",
    "O_data = np.load(\"./data/IROS_dataset/OShape.npy\")\n",
    "S_data = np.load(\"./data/IROS_dataset/SShape.npy\")\n",
    "\n",
    "drums_data = np.load(\"./data/DRUMS_dataset/Drums.npy\")\n",
    "\n",
    "pour_data = np.load(\"./data/POURING_dataset/Pouring.npy\", allow_pickle = True)\n",
    "\n"
   ],
   "metadata": {
    "collapsed": false,
    "pycharm": {
     "name": "#%%\n"
    }
   }
  },
  {
   "cell_type": "code",
   "execution_count": 13,
   "metadata": {},
   "outputs": [
    {
     "output_type": "stream",
     "name": "stdout",
     "text": [
      "(3, 213, 2)\n(2, 838, 2)\n(1, 203, 2)\n(1, 201, 2)\n(6, 1000, 6)\n(63,)\n"
     ]
    }
   ],
   "source": [
    "IROS_data.shape\n",
    "print(I_data.shape)\n",
    "print(R_data.shape)\n",
    "print(O_data.shape)\n",
    "print(S_data.shape)\n",
    "\n",
    "print(drums_data.shape)\n",
    "print(pour_data.shape)"
   ]
  },
  {
   "cell_type": "code",
   "execution_count": 26,
   "metadata": {
    "tags": []
   },
   "outputs": [
    {
     "output_type": "stream",
     "name": "stdout",
     "text": [
      "__header__\n__version__\n__globals__\ndt\ndemos\n0.02\n(3,)\n(2, 250)\n(2, 250)\n(2, 250)\n[[137.08920188 135.18856116 134.12669327 133.14515542 132.37450193\n  131.78024489 131.1470032  130.45504951 129.68279294 128.88824652\n  128.10846187 127.28428172 126.42789209 125.5256038  124.67522554\n  123.78740221 122.89973034 122.05096439 121.2102251  120.34637533\n  119.50334329 118.60193484 117.69033147 116.76494418 115.86353573\n  114.9402896  114.02126195 113.06646905 112.07059526 111.07281518\n  110.03693022 108.92217515 107.77419408 106.62989647 105.45935044\n  104.27698231 103.06036831 101.83886994 100.59879489  99.34019481\n   98.08160175  96.82855147  95.52083656  94.18726951  92.82451423\n   91.41757096  90.00425836  88.51783771  87.00087664  85.45400802\n   83.84675688  82.19703412  80.55906872  78.94583762  77.29242723\n   75.60488127  73.9477961   72.28066718  70.56870618  68.8387008\n   67.04253601  65.23951103  63.41698939  61.59713581  59.75135455\n   57.86077053  55.96469572  54.00940332  52.07461592  50.16497867\n   48.26145312  46.34456228  44.42564773  42.52738593  40.63258177\n   38.78328908  36.94163718  35.12007028  33.3149141   31.54924829\n   29.8142274   28.07902539  26.39570622  24.71855118  23.11613297\n   21.60894757  20.09970806  18.65083106  17.27971465  16.01381697\n   14.83288488  13.6978961   12.67921327  11.71998899  10.84565388\n   10.09866711   9.4476499    8.88195936   8.41756379   8.07256403\n    7.80710663   7.65880746   7.61138263   7.69470088   7.87608977\n    8.21846699   8.66368645   9.17517391   9.80456833  10.48956032\n   11.27592251  12.18932905  13.12829618  14.11978357  15.22519469\n   16.3807449   17.57704183  18.81412179  20.11258095  21.37101595\n   22.63160138  23.92035383  25.28475206  26.69323853  28.0895204\n   29.49891549  30.90739642  32.33977301  33.72562947  35.13643172\n   36.52096704  37.94173904  39.41765459  41.00270203  42.69258039\n   44.36165038  46.06226007  47.82450152  49.61789076  51.42815602\n   53.32724565  55.23422152  57.18963813  59.12759729  61.09995654\n   63.0583523   65.10230992  67.1162289   69.16931592  71.31719837\n   73.53701089  75.81377632  78.04813924  80.29883696  82.58456764\n   84.92156993  87.2179328   89.53324451  91.86299246  94.20032372\n   96.53892292  98.81178804 101.0528113  103.22568115 105.26775125\n  107.17085789 109.02533157 110.79058148 112.4958148  114.16292191\n  115.75445758 117.19170056 118.57046399 119.77980176 120.7857016\n  121.62691495 122.2961734  122.84359395 123.33121538 123.6609374\n  123.85245817 123.94043529 123.86947878 123.59793555 123.0751763\n  122.44752038 121.665012   120.74334765 119.6874119  118.59192481\n  117.44258754 116.13543948 114.74576812 113.32353105 111.7462834\n  110.10955503 108.4261864  106.71225151 104.92667202 103.12929497\n  101.15839311  99.09193622  97.00649688  94.86565955  92.61833569\n   90.34713152  87.99073871  85.55077939  83.02045125  80.42874315\n   77.80463143  75.24667233  72.65509454  70.0585696   67.4177226\n   64.78349905  62.1973523   59.5682588   56.96988259  54.39226417\n   51.77873327  49.19203029  46.56248259  43.96458823  41.36787914\n   38.90969554  36.57778135  34.19389664  31.82074     29.49254112\n   27.21289722  25.0184891   22.93273995  20.95418379  19.13109742\n   17.38755989  15.68786318  14.10863871  12.26246855  10.40757649\n    8.63918414   7.00267094   5.41232964   3.93019117   2.46833514\n    1.47170522   0.87608709   0.5686793    0.32182074   0.        ]\n [145.21158129 147.46692115 149.36711854 151.20033509 152.88701103\n  154.47654542 155.89144047 157.3039822  158.65370706 159.90090713\n  161.12756787 162.306917   163.49554987 164.8505049  166.15134507\n  167.44839952 168.64662683 169.84483123 170.97108227 171.99365656\n  173.00128231 173.98024039 174.91194286 175.80266835 176.67812581\n  177.52104651 178.29238432 179.02625969 179.72242498 180.34818166\n  180.9539723  181.5320665  182.07078307 182.53365236 182.96126929\n  183.38249918 183.72607436 184.0333664  184.28197484 184.47292999\n  184.62056639 184.76310536 184.87079497 184.9776992  185.08335297\n  185.15462246 185.21759244 185.25322718 185.28886193 185.30066815\n  185.30066815 185.29180881 185.25617406 185.22053932 185.16569354\n  185.06337877 184.95647454 184.81668432 184.6385106  184.45923544\n  184.23582975 183.98638654 183.73694333 183.47278024 183.16523379\n  182.81847482 182.43250331 182.00731928 181.54288712 181.0440007\n  180.54511429 180.04050872 179.47584878 178.84964736 178.18735823\n  177.44894242 176.70947214 175.9303627  175.07345694 174.19448628\n  173.28214107 172.29596027 171.26168083 170.2093216  169.09785312\n  167.95349465 166.68919352 165.34054946 163.85642101 162.37026724\n  160.77123161 159.14864567 157.51443523 155.83777742 154.1171488\n  152.32011749 150.41636494 148.48698821 146.61830963 144.66702566\n  142.72244707 140.75189817 138.76151674 136.74738289 134.71147693\n  132.7056317  130.73956699 128.81583146 126.87263627 124.95028793\n  123.0752904  121.34003595 119.63090459 117.98708292 116.33572024\n  114.79317848 113.30953102 111.80800612 110.34812652 108.92675616\n  107.55229527 106.27369889 105.00830776 103.70615554 102.48348388\n  101.291021   100.09522971  98.94647297  97.86205601  96.83697269\n   95.78427267  94.73415261  93.65414708  92.54273241  91.41963844\n   90.28956236  89.09217287  87.90950801  86.81119043  85.67909473\n   84.48743765  83.26000358  82.08150201  80.9268544   79.77083027\n   78.57715387  77.31819209  76.09042764  74.82076172  73.43449221\n   71.97944124  70.48721845  68.95578313  67.38511415  65.70766054\n   64.0536729   62.33382715  60.56514281  58.67226447  56.63845329\n   54.50317566  52.36643857  50.19199107  47.96151734  45.78244905\n   43.60429363  41.41627477  39.17368621  36.83195055  34.45338284\n   32.07278318  29.72732143  27.32337329  24.90199792  22.53497962\n   20.14956897  17.79398236  15.40613725  13.0179211   10.69824941\n    8.3522408    6.02762227   3.76167325   1.64420277  -0.34976427\n   -2.24118832  -4.16120428  -6.11936531  -8.06056577 -10.00533857\n  -11.89428619 -13.81773999 -15.72749153 -17.5595758  -19.35274823\n  -21.1206953  -22.84490747 -24.50441054 -26.10319672 -27.60692209\n  -29.04913237 -30.45658855 -31.7771897  -33.02097717 -34.22281007\n  -35.3433725  -36.38340235 -37.3647222  -38.26299449 -39.09279423\n  -39.8870187  -40.57764128 -41.13599556 -41.60589479 -42.02738955\n  -42.37582408 -42.59980141 -42.7239168  -42.77123556 -42.73543942\n  -42.58442358 -42.3794069  -42.07727196 -41.68088676 -41.19735501\n  -40.57052698 -39.85645209 -38.89517439 -37.70611934 -36.40156614\n  -34.98853824 -33.49691541 -31.94686368 -30.33516426 -28.6703116\n  -26.96699947 -25.2244748  -23.45565524 -21.76653265 -19.8793375\n  -17.80271664 -15.52893923 -13.04108349 -10.28558241  -7.2395333\n   -4.92292503  -3.30842757  -2.02279949  -0.98031324   0.        ]]\n"
     ]
    }
   ],
   "source": [
    "mat = spio.loadmat(\"./data/LASA_dataset/Sshape.mat\",squeeze_me=True)\n",
    "for key in mat.keys():\n",
    "    print(key)\n",
    "# for demo_i in mat['demos']:\n",
    "#     x = demo_i[0]\n",
    "#     y = demo_i[1]\n",
    "#     tr_i = np.stack((x,y))\n",
    "#     print(tr_i)\n",
    "#     trajs_real.append(tr_i.T)\n",
    "\n",
    "print(mat['dt'])    #0.02\n",
    "print(mat['demos'].shape)\n",
    "print(mat['demos'][0].shape)\n",
    "print(mat['demos'][1].shape)\n",
    "print(mat['demos'][2].shape)\n",
    "\n",
    "print(mat['demos'][0])\n"
   ]
  },
  {
   "cell_type": "code",
   "execution_count": 27,
   "metadata": {
    "tags": []
   },
   "outputs": [
    {
     "output_type": "execute_result",
     "data": {
      "text/plain": [
       "[<matplotlib.lines.Line2D at 0x7f0a43ceab80>]"
      ]
     },
     "metadata": {},
     "execution_count": 27
    },
    {
     "output_type": "display_data",
     "data": {
      "text/plain": "<Figure size 432x288 with 1 Axes>",
      "image/svg+xml": "<?xml version=\"1.0\" encoding=\"utf-8\" standalone=\"no\"?>\n<!DOCTYPE svg PUBLIC \"-//W3C//DTD SVG 1.1//EN\"\n  \"http://www.w3.org/Graphics/SVG/1.1/DTD/svg11.dtd\">\n<!-- Created with matplotlib (https://matplotlib.org/) -->\n<svg height=\"250.371077pt\" version=\"1.1\" viewBox=\"0 0 377.304687 250.371077\" width=\"377.304687pt\" xmlns=\"http://www.w3.org/2000/svg\" xmlns:xlink=\"http://www.w3.org/1999/xlink\">\n <metadata>\n  <rdf:RDF xmlns:cc=\"http://creativecommons.org/ns#\" xmlns:dc=\"http://purl.org/dc/elements/1.1/\" xmlns:rdf=\"http://www.w3.org/1999/02/22-rdf-syntax-ns#\">\n   <cc:Work>\n    <dc:type rdf:resource=\"http://purl.org/dc/dcmitype/StillImage\"/>\n    <dc:date>2021-06-13T13:07:25.010731</dc:date>\n    <dc:format>image/svg+xml</dc:format>\n    <dc:creator>\n     <cc:Agent>\n      <dc:title>Matplotlib v3.3.4, https://matplotlib.org/</dc:title>\n     </cc:Agent>\n    </dc:creator>\n   </cc:Work>\n  </rdf:RDF>\n </metadata>\n <defs>\n  <style type=\"text/css\">*{stroke-linecap:butt;stroke-linejoin:round;}</style>\n </defs>\n <g id=\"figure_1\">\n  <g id=\"patch_1\">\n   <path d=\"M 0 250.371077 \nL 377.304687 250.371077 \nL 377.304687 0 \nL 0 0 \nz\n\" style=\"fill:none;\"/>\n  </g>\n  <g id=\"axes_1\">\n   <g id=\"patch_2\">\n    <path d=\"M 35.304688 226.492952 \nL 370.104688 226.492952 \nL 370.104688 9.052952 \nL 35.304688 9.052952 \nz\n\" style=\"fill:#ffffff;\"/>\n   </g>\n   <g id=\"matplotlib.axis_1\">\n    <g id=\"xtick_1\">\n     <g id=\"line2d_1\">\n      <defs>\n       <path d=\"M 0 0 \nL 0 3.5 \n\" id=\"m547de92bad\" style=\"stroke:#000000;stroke-width:0.8;\"/>\n      </defs>\n      <g>\n       <use style=\"stroke:#000000;stroke-width:0.8;\" x=\"51.433501\" xlink:href=\"#m547de92bad\" y=\"226.492952\"/>\n      </g>\n     </g>\n     <g id=\"text_1\">\n      <!-- 0 -->\n      <g transform=\"translate(48.252251 241.091389)scale(0.1 -0.1)\">\n       <defs>\n        <path d=\"M 31.78125 66.40625 \nQ 24.171875 66.40625 20.328125 58.90625 \nQ 16.5 51.421875 16.5 36.375 \nQ 16.5 21.390625 20.328125 13.890625 \nQ 24.171875 6.390625 31.78125 6.390625 \nQ 39.453125 6.390625 43.28125 13.890625 \nQ 47.125 21.390625 47.125 36.375 \nQ 47.125 51.421875 43.28125 58.90625 \nQ 39.453125 66.40625 31.78125 66.40625 \nz\nM 31.78125 74.21875 \nQ 44.046875 74.21875 50.515625 64.515625 \nQ 56.984375 54.828125 56.984375 36.375 \nQ 56.984375 17.96875 50.515625 8.265625 \nQ 44.046875 -1.421875 31.78125 -1.421875 \nQ 19.53125 -1.421875 13.0625 8.265625 \nQ 6.59375 17.96875 6.59375 36.375 \nQ 6.59375 54.828125 13.0625 64.515625 \nQ 19.53125 74.21875 31.78125 74.21875 \nz\n\" id=\"DejaVuSans-48\"/>\n       </defs>\n       <use xlink:href=\"#DejaVuSans-48\"/>\n      </g>\n     </g>\n    </g>\n    <g id=\"xtick_2\">\n     <g id=\"line2d_2\">\n      <g>\n       <use style=\"stroke:#000000;stroke-width:0.8;\" x=\"97.601708\" xlink:href=\"#m547de92bad\" y=\"226.492952\"/>\n      </g>\n     </g>\n     <g id=\"text_2\">\n      <!-- 25 -->\n      <g transform=\"translate(91.239208 241.091389)scale(0.1 -0.1)\">\n       <defs>\n        <path d=\"M 19.1875 8.296875 \nL 53.609375 8.296875 \nL 53.609375 0 \nL 7.328125 0 \nL 7.328125 8.296875 \nQ 12.9375 14.109375 22.625 23.890625 \nQ 32.328125 33.6875 34.8125 36.53125 \nQ 39.546875 41.84375 41.421875 45.53125 \nQ 43.3125 49.21875 43.3125 52.78125 \nQ 43.3125 58.59375 39.234375 62.25 \nQ 35.15625 65.921875 28.609375 65.921875 \nQ 23.96875 65.921875 18.8125 64.3125 \nQ 13.671875 62.703125 7.8125 59.421875 \nL 7.8125 69.390625 \nQ 13.765625 71.78125 18.9375 73 \nQ 24.125 74.21875 28.421875 74.21875 \nQ 39.75 74.21875 46.484375 68.546875 \nQ 53.21875 62.890625 53.21875 53.421875 \nQ 53.21875 48.921875 51.53125 44.890625 \nQ 49.859375 40.875 45.40625 35.40625 \nQ 44.1875 33.984375 37.640625 27.21875 \nQ 31.109375 20.453125 19.1875 8.296875 \nz\n\" id=\"DejaVuSans-50\"/>\n        <path d=\"M 10.796875 72.90625 \nL 49.515625 72.90625 \nL 49.515625 64.59375 \nL 19.828125 64.59375 \nL 19.828125 46.734375 \nQ 21.96875 47.46875 24.109375 47.828125 \nQ 26.265625 48.1875 28.421875 48.1875 \nQ 40.625 48.1875 47.75 41.5 \nQ 54.890625 34.8125 54.890625 23.390625 \nQ 54.890625 11.625 47.5625 5.09375 \nQ 40.234375 -1.421875 26.90625 -1.421875 \nQ 22.3125 -1.421875 17.546875 -0.640625 \nQ 12.796875 0.140625 7.71875 1.703125 \nL 7.71875 11.625 \nQ 12.109375 9.234375 16.796875 8.0625 \nQ 21.484375 6.890625 26.703125 6.890625 \nQ 35.15625 6.890625 40.078125 11.328125 \nQ 45.015625 15.765625 45.015625 23.390625 \nQ 45.015625 31 40.078125 35.4375 \nQ 35.15625 39.890625 26.703125 39.890625 \nQ 22.75 39.890625 18.8125 39.015625 \nQ 14.890625 38.140625 10.796875 36.28125 \nz\n\" id=\"DejaVuSans-53\"/>\n       </defs>\n       <use xlink:href=\"#DejaVuSans-50\"/>\n       <use x=\"63.623047\" xlink:href=\"#DejaVuSans-53\"/>\n      </g>\n     </g>\n    </g>\n    <g id=\"xtick_3\">\n     <g id=\"line2d_3\">\n      <g>\n       <use style=\"stroke:#000000;stroke-width:0.8;\" x=\"143.769915\" xlink:href=\"#m547de92bad\" y=\"226.492952\"/>\n      </g>\n     </g>\n     <g id=\"text_3\">\n      <!-- 50 -->\n      <g transform=\"translate(137.407415 241.091389)scale(0.1 -0.1)\">\n       <use xlink:href=\"#DejaVuSans-53\"/>\n       <use x=\"63.623047\" xlink:href=\"#DejaVuSans-48\"/>\n      </g>\n     </g>\n    </g>\n    <g id=\"xtick_4\">\n     <g id=\"line2d_4\">\n      <g>\n       <use style=\"stroke:#000000;stroke-width:0.8;\" x=\"189.938123\" xlink:href=\"#m547de92bad\" y=\"226.492952\"/>\n      </g>\n     </g>\n     <g id=\"text_4\">\n      <!-- 75 -->\n      <g transform=\"translate(183.575623 241.091389)scale(0.1 -0.1)\">\n       <defs>\n        <path d=\"M 8.203125 72.90625 \nL 55.078125 72.90625 \nL 55.078125 68.703125 \nL 28.609375 0 \nL 18.3125 0 \nL 43.21875 64.59375 \nL 8.203125 64.59375 \nz\n\" id=\"DejaVuSans-55\"/>\n       </defs>\n       <use xlink:href=\"#DejaVuSans-55\"/>\n       <use x=\"63.623047\" xlink:href=\"#DejaVuSans-53\"/>\n      </g>\n     </g>\n    </g>\n    <g id=\"xtick_5\">\n     <g id=\"line2d_5\">\n      <g>\n       <use style=\"stroke:#000000;stroke-width:0.8;\" x=\"236.10633\" xlink:href=\"#m547de92bad\" y=\"226.492952\"/>\n      </g>\n     </g>\n     <g id=\"text_5\">\n      <!-- 100 -->\n      <g transform=\"translate(226.56258 241.091389)scale(0.1 -0.1)\">\n       <defs>\n        <path d=\"M 12.40625 8.296875 \nL 28.515625 8.296875 \nL 28.515625 63.921875 \nL 10.984375 60.40625 \nL 10.984375 69.390625 \nL 28.421875 72.90625 \nL 38.28125 72.90625 \nL 38.28125 8.296875 \nL 54.390625 8.296875 \nL 54.390625 0 \nL 12.40625 0 \nz\n\" id=\"DejaVuSans-49\"/>\n       </defs>\n       <use xlink:href=\"#DejaVuSans-49\"/>\n       <use x=\"63.623047\" xlink:href=\"#DejaVuSans-48\"/>\n       <use x=\"127.246094\" xlink:href=\"#DejaVuSans-48\"/>\n      </g>\n     </g>\n    </g>\n    <g id=\"xtick_6\">\n     <g id=\"line2d_6\">\n      <g>\n       <use style=\"stroke:#000000;stroke-width:0.8;\" x=\"282.274537\" xlink:href=\"#m547de92bad\" y=\"226.492952\"/>\n      </g>\n     </g>\n     <g id=\"text_6\">\n      <!-- 125 -->\n      <g transform=\"translate(272.730787 241.091389)scale(0.1 -0.1)\">\n       <use xlink:href=\"#DejaVuSans-49\"/>\n       <use x=\"63.623047\" xlink:href=\"#DejaVuSans-50\"/>\n       <use x=\"127.246094\" xlink:href=\"#DejaVuSans-53\"/>\n      </g>\n     </g>\n    </g>\n    <g id=\"xtick_7\">\n     <g id=\"line2d_7\">\n      <g>\n       <use style=\"stroke:#000000;stroke-width:0.8;\" x=\"328.442744\" xlink:href=\"#m547de92bad\" y=\"226.492952\"/>\n      </g>\n     </g>\n     <g id=\"text_7\">\n      <!-- 150 -->\n      <g transform=\"translate(318.898994 241.091389)scale(0.1 -0.1)\">\n       <use xlink:href=\"#DejaVuSans-49\"/>\n       <use x=\"63.623047\" xlink:href=\"#DejaVuSans-53\"/>\n       <use x=\"127.246094\" xlink:href=\"#DejaVuSans-48\"/>\n      </g>\n     </g>\n    </g>\n   </g>\n   <g id=\"matplotlib.axis_2\">\n    <g id=\"ytick_1\">\n     <g id=\"line2d_8\">\n      <defs>\n       <path d=\"M 0 0 \nL -3.5 0 \n\" id=\"m1f91bbf88c\" style=\"stroke:#000000;stroke-width:0.8;\"/>\n      </defs>\n      <g>\n       <use style=\"stroke:#000000;stroke-width:0.8;\" x=\"35.304688\" xlink:href=\"#m1f91bbf88c\" y=\"199.991726\"/>\n      </g>\n     </g>\n     <g id=\"text_8\">\n      <!-- −50 -->\n      <g transform=\"translate(7.2 203.790944)scale(0.1 -0.1)\">\n       <defs>\n        <path d=\"M 10.59375 35.5 \nL 73.1875 35.5 \nL 73.1875 27.203125 \nL 10.59375 27.203125 \nz\n\" id=\"DejaVuSans-8722\"/>\n       </defs>\n       <use xlink:href=\"#DejaVuSans-8722\"/>\n       <use x=\"83.789062\" xlink:href=\"#DejaVuSans-53\"/>\n       <use x=\"147.412109\" xlink:href=\"#DejaVuSans-48\"/>\n      </g>\n     </g>\n    </g>\n    <g id=\"ytick_2\">\n     <g id=\"line2d_9\">\n      <g>\n       <use style=\"stroke:#000000;stroke-width:0.8;\" x=\"35.304688\" xlink:href=\"#m1f91bbf88c\" y=\"162.193224\"/>\n      </g>\n     </g>\n     <g id=\"text_9\">\n      <!-- 0 -->\n      <g transform=\"translate(21.942188 165.992443)scale(0.1 -0.1)\">\n       <use xlink:href=\"#DejaVuSans-48\"/>\n      </g>\n     </g>\n    </g>\n    <g id=\"ytick_3\">\n     <g id=\"line2d_10\">\n      <g>\n       <use style=\"stroke:#000000;stroke-width:0.8;\" x=\"35.304688\" xlink:href=\"#m1f91bbf88c\" y=\"124.394723\"/>\n      </g>\n     </g>\n     <g id=\"text_10\">\n      <!-- 50 -->\n      <g transform=\"translate(15.579688 128.193942)scale(0.1 -0.1)\">\n       <use xlink:href=\"#DejaVuSans-53\"/>\n       <use x=\"63.623047\" xlink:href=\"#DejaVuSans-48\"/>\n      </g>\n     </g>\n    </g>\n    <g id=\"ytick_4\">\n     <g id=\"line2d_11\">\n      <g>\n       <use style=\"stroke:#000000;stroke-width:0.8;\" x=\"35.304688\" xlink:href=\"#m1f91bbf88c\" y=\"86.596221\"/>\n      </g>\n     </g>\n     <g id=\"text_11\">\n      <!-- 100 -->\n      <g transform=\"translate(9.217188 90.39544)scale(0.1 -0.1)\">\n       <use xlink:href=\"#DejaVuSans-49\"/>\n       <use x=\"63.623047\" xlink:href=\"#DejaVuSans-48\"/>\n       <use x=\"127.246094\" xlink:href=\"#DejaVuSans-48\"/>\n      </g>\n     </g>\n    </g>\n    <g id=\"ytick_5\">\n     <g id=\"line2d_12\">\n      <g>\n       <use style=\"stroke:#000000;stroke-width:0.8;\" x=\"35.304688\" xlink:href=\"#m1f91bbf88c\" y=\"48.79772\"/>\n      </g>\n     </g>\n     <g id=\"text_12\">\n      <!-- 150 -->\n      <g transform=\"translate(9.217188 52.596939)scale(0.1 -0.1)\">\n       <use xlink:href=\"#DejaVuSans-49\"/>\n       <use x=\"63.623047\" xlink:href=\"#DejaVuSans-53\"/>\n       <use x=\"127.246094\" xlink:href=\"#DejaVuSans-48\"/>\n      </g>\n     </g>\n    </g>\n    <g id=\"ytick_6\">\n     <g id=\"line2d_13\">\n      <g>\n       <use style=\"stroke:#000000;stroke-width:0.8;\" x=\"35.304688\" xlink:href=\"#m1f91bbf88c\" y=\"10.999219\"/>\n      </g>\n     </g>\n     <g id=\"text_13\">\n      <!-- 200 -->\n      <g transform=\"translate(9.217188 14.798437)scale(0.1 -0.1)\">\n       <use xlink:href=\"#DejaVuSans-50\"/>\n       <use x=\"63.623047\" xlink:href=\"#DejaVuSans-48\"/>\n       <use x=\"127.246094\" xlink:href=\"#DejaVuSans-48\"/>\n      </g>\n     </g>\n    </g>\n   </g>\n   <g id=\"line2d_14\">\n    <path clip-path=\"url(#p1de486e0a9)\" d=\"M 354.886506 40.968632 \nL 352.59709 39.500208 \nL 349.985411 37.286668 \nL 347.082694 34.714019 \nL 343.153663 32.013411 \nL 340.815948 30.90232 \nL 335.013554 28.598745 \nL 331.868097 27.63374 \nL 328.07783 26.814816 \nL 321.96302 25.0045 \nL 315.587495 23.360976 \nL 308.941184 21.91399 \nL 301.300409 20.75067 \nL 293.369158 19.862324 \nL 285.077437 19.348174 \nL 276.722277 19.08578 \nL 264.165597 18.948686 \nL 252.146277 19.352142 \nL 243.854525 19.76568 \nL 230.828351 20.792274 \nL 205.677532 23.09325 \nL 184.115349 25.353506 \nL 167.064168 27.326245 \nL 159.985766 28.348111 \nL 151.944615 29.705456 \nL 144.515247 31.299766 \nL 137.991303 32.992127 \nL 131.837198 34.789803 \nL 125.98628 36.780461 \nL 120.368468 38.911514 \nL 115.108281 41.238099 \nL 112.669003 42.534051 \nL 110.509435 44.000722 \nL 108.654975 45.567034 \nL 105.564609 48.714969 \nL 104.252164 50.369973 \nL 103.123566 52.046731 \nL 102.246838 53.719316 \nL 101.602975 55.391379 \nL 101.18601 57.076555 \nL 101.600066 58.743625 \nL 102.500431 60.338394 \nL 103.776707 61.912643 \nL 105.381612 63.392437 \nL 109.029461 66.232722 \nL 113.035765 68.981689 \nL 117.285637 71.61269 \nL 121.993872 74.130439 \nL 126.949629 76.541045 \nL 132.063252 78.730137 \nL 141.348503 81.972753 \nL 148.287929 84.217131 \nL 156.660674 87.10344 \nL 165.861405 90.772719 \nL 176.230626 95.061582 \nL 196.379347 103.354433 \nL 203.825027 106.192725 \nL 225.11564 113.831537 \nL 263.095521 126.657435 \nL 274.295162 130.420822 \nL 281.838503 133.147392 \nL 285.763826 134.765755 \nL 293.209719 138.256754 \nL 296.866524 140.019077 \nL 303.568656 143.617817 \nL 306.637102 145.55838 \nL 309.341324 147.681524 \nL 311.844626 149.835473 \nL 313.944232 151.931074 \nL 315.574223 153.947799 \nL 316.957503 155.989615 \nL 318.148542 158.08699 \nL 319.095498 160.25303 \nL 319.791832 162.413961 \nL 320.309739 164.571101 \nL 320.174316 166.92777 \nL 318.935984 171.976617 \nL 318.021747 174.507944 \nL 315.451718 179.487664 \nL 313.983573 181.969264 \nL 312.208841 184.407216 \nL 309.703973 186.757802 \nL 306.449519 189.037056 \nL 302.864781 191.210218 \nL 299.038652 193.312951 \nL 294.99643 195.369944 \nL 286.357918 199.377472 \nL 281.760253 201.216735 \nL 272.537674 204.269408 \nL 262.857922 207.144832 \nL 252.906572 209.698515 \nL 247.782675 210.842966 \nL 236.909199 212.948727 \nL 231.642911 213.729704 \nL 220.854988 214.859696 \nL 209.488512 215.732417 \nL 197.321744 216.351661 \nL 185.029973 216.609315 \nL 173.929586 216.327077 \nL 162.983078 215.758872 \nL 152.252448 214.860482 \nL 142.037297 213.719956 \nL 131.996448 212.397718 \nL 122.127553 210.804128 \nL 112.625376 209.025159 \nL 103.831992 207.068453 \nL 95.819275 204.967269 \nL 88.395404 202.44875 \nL 81.981518 199.890494 \nL 76.324328 197.193733 \nL 71.224732 194.466239 \nL 68.890871 193.054983 \nL 66.821479 191.531535 \nL 63.23555 188.459804 \nL 60.240775 185.232428 \nL 57.667942 182.048192 \nL 56.10534 180.516858 \nL 54.700628 178.968608 \nL 53.480744 177.295685 \nL 52.403366 175.515255 \nL 51.654728 173.659327 \nL 50.522869 170.107259 \nL 50.556642 168.220823 \nL 50.801545 165.801778 \nL 51.433501 162.772874 \nL 51.433501 162.193224 \nL 51.433501 162.193224 \n\" style=\"fill:none;stroke:#1f77b4;stroke-linecap:square;stroke-width:1.5;\"/>\n   </g>\n   <g id=\"patch_3\">\n    <path d=\"M 35.304688 226.492952 \nL 35.304688 9.052952 \n\" style=\"fill:none;stroke:#000000;stroke-linecap:square;stroke-linejoin:miter;stroke-width:0.8;\"/>\n   </g>\n   <g id=\"patch_4\">\n    <path d=\"M 370.104688 226.492952 \nL 370.104688 9.052952 \n\" style=\"fill:none;stroke:#000000;stroke-linecap:square;stroke-linejoin:miter;stroke-width:0.8;\"/>\n   </g>\n   <g id=\"patch_5\">\n    <path d=\"M 35.304688 226.492952 \nL 370.104687 226.492952 \n\" style=\"fill:none;stroke:#000000;stroke-linecap:square;stroke-linejoin:miter;stroke-width:0.8;\"/>\n   </g>\n   <g id=\"patch_6\">\n    <path d=\"M 35.304688 9.052952 \nL 370.104687 9.052952 \n\" style=\"fill:none;stroke:#000000;stroke-linecap:square;stroke-linejoin:miter;stroke-width:0.8;\"/>\n   </g>\n  </g>\n </g>\n <defs>\n  <clipPath id=\"p1de486e0a9\">\n   <rect height=\"217.44\" width=\"334.8\" x=\"35.304688\" y=\"9.052952\"/>\n  </clipPath>\n </defs>\n</svg>\n",
      "image/png": "[encoded data removed]"
     },
     "metadata": {
      "needs_background": "light"
     }
    }
   ],
   "source": [
    "trajs_real = []\n",
    "for demo_i in mat['demos']:\n",
    "    x = demo_i[0]\n",
    "    y = demo_i[1]\n",
    "    tr_i = np.stack((x,y))\n",
    "    trajs_real.append(tr_i.T)\n",
    "plt.plot(trajs_real[2][:,0],trajs_real[2][:,1])"
   ]
  },
  {
   "cell_type": "code",
   "execution_count": 2,
   "metadata": {},
   "outputs": [
    {
     "output_type": "execute_result",
     "data": {
      "text/plain": [
       "-4.605170185988091"
      ]
     },
     "metadata": {},
     "execution_count": 2
    }
   ],
   "source": [
    "a = torch.tensor([[1,2],[3,4],[5,6]])\n",
    "indices = torch.tensor([1,0])\n",
    "torch.index_select(a, 1, indices)\n",
    "a[[0,1],[0,1]]\n",
    "np.log(0.1 ** 2)"
   ]
  },
  {
   "cell_type": "code",
   "execution_count": 12,
   "metadata": {},
   "outputs": [
    {
     "output_type": "stream",
     "name": "stdout",
     "text": [
      "(array([1]), array([0]))\n"
     ]
    }
   ],
   "source": [
    "lower_indices = np.tril_indices(2, k=-1)\n",
    "print(lower_indices)"
   ]
  },
  {
   "cell_type": "code",
   "execution_count": 16,
   "metadata": {},
   "outputs": [
    {
     "output_type": "stream",
     "name": "stdout",
     "text": [
      "(6, 1000, 6)\n"
     ]
    }
   ],
   "source": [
    "trajs_np = np.load(\"./data/DRUMS_dataset/Drums.npy\")\n",
    "print(trajs_np.shape)"
   ]
  },
  {
   "source": [],
   "cell_type": "markdown",
   "metadata": {}
  }
 ],
 "metadata": {
  "kernelspec": {
   "display_name": "Python 3",
   "language": "python",
   "name": "python3"
  },
  "language_info": {
   "codemirror_mode": {
    "name": "ipython",
    "version": 2
   },
   "file_extension": ".py",
   "mimetype": "text/x-python",
   "name": "python",
   "nbconvert_exporter": "python",
   "pygments_lexer": "ipython2",
   "version": "3.8.8"
  }
 },
 "nbformat": 4,
 "nbformat_minor": 0
}